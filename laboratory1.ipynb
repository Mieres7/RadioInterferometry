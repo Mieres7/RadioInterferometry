{
 "cells": [
  {
   "cell_type": "markdown",
   "id": "febf865a",
   "metadata": {},
   "source": [
    "## Radio interferometría y síntesis de imágenes en astronomía - Laboratorio 1\n",
    "### Vicente Mieres"
   ]
  },
  {
   "cell_type": "code",
   "execution_count": 6,
   "id": "49cd1d56",
   "metadata": {},
   "outputs": [],
   "source": [
    "# imports \n",
    "import numpy as np"
   ]
  },
  {
   "cell_type": "markdown",
   "id": "69ab725e",
   "metadata": {},
   "source": [
    "## Funciones y utilidades"
   ]
  },
  {
   "cell_type": "code",
   "execution_count": 16,
   "id": "ff6f36ab",
   "metadata": {},
   "outputs": [],
   "source": [
    "def ecef_to_enu(ecef, array_center, phi=-33.45, lamb=-70.66, deg=True):\n",
    "    '''\n",
    "    ecef in meters (xyz)\n",
    "    array_center: central antenna coords\n",
    "    phi: latitud\n",
    "    lamb (lambda): longitude\n",
    "    deg: True if phi and lamb in degrees\n",
    "    '''\n",
    "\n",
    "    if deg:\n",
    "        phi, lamb = np.deg2rad(phi), np.deg2rad(lamb)\n",
    "\n",
    "    cphi, clam = np.cos(phi), np.cos(lamb)\n",
    "    sphi, slam = np.sin(phi), np.sin(lamb)\n",
    "\n",
    "    dxyz = np.array(ecef) - np.array(array_center)\n",
    "\n",
    "    R = np.array([[-slam,        clam,       0],\n",
    "                  [-clam*sphi,   -slam*sphi, cphi],\n",
    "                  [clam*cphi,    slam*cphi,  sphi]])\n",
    "\n",
    "    enu = R @ dxyz\n",
    "\n",
    "    return enu"
   ]
  },
  {
   "cell_type": "code",
   "execution_count": 15,
   "id": "c3cee070",
   "metadata": {},
   "outputs": [
    {
     "name": "stdout",
     "output_type": "stream",
     "text": [
      "ENU: [94.3569979  18.25456777 27.63200504]\n"
     ]
    }
   ],
   "source": [
    "# Posición de referencia (observador) en ECEF [m]\n",
    "xyz0 = np.array([1900000.0, -4500000.0, -3500000.0])\n",
    "\n",
    "# Otra antena cercana\n",
    "xyz = np.array([1900100.0, -4500000.0, -3500000.0])  # ~100 m al Este\n",
    "\n",
    "lat0 = -33.45   # grados\n",
    "lon0 = -70.66   # grados\n",
    "\n",
    "enu = ecef_to_enu(xyz, xyz0, lat0, lon0)\n",
    "print(\"ENU:\", enu)\n"
   ]
  },
  {
   "cell_type": "markdown",
   "id": "798b85ed",
   "metadata": {},
   "source": [
    "## Parte 1: Simulación de cobertura *uv*"
   ]
  }
 ],
 "metadata": {
  "kernelspec": {
   "display_name": "Python 3",
   "language": "python",
   "name": "python3"
  },
  "language_info": {
   "codemirror_mode": {
    "name": "ipython",
    "version": 3
   },
   "file_extension": ".py",
   "mimetype": "text/x-python",
   "name": "python",
   "nbconvert_exporter": "python",
   "pygments_lexer": "ipython3",
   "version": "3.13.7"
  }
 },
 "nbformat": 4,
 "nbformat_minor": 5
}
