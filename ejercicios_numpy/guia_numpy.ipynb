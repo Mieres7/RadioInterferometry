{
 "cells": [
  {
   "cell_type": "code",
   "execution_count": 34,
   "id": "9c5650be",
   "metadata": {},
   "outputs": [],
   "source": [
    "import numpy as np\n",
    "import math\n",
    "import time"
   ]
  },
  {
   "cell_type": "markdown",
   "id": "3919a19f",
   "metadata": {},
   "source": [
    "## 1.1 Ejercicios Básicos\n",
    "\n",
    "### 1 Procesamiento de visibilidades"
   ]
  },
  {
   "cell_type": "code",
   "execution_count": 35,
   "id": "76aa9e2b",
   "metadata": {},
   "outputs": [],
   "source": [
    "# 1.1 Ejercicios Básicos\n",
    "## 1 Procesamiento de visibilidades\n",
    "def visilities(n=1_000_000, dtype=np.int32):\n",
    "    amplitud = np.random.uniform(0, 1, n).astype(dtype)\n",
    "    fase = np.random.uniform(0, 2 * np.pi, n).astype(dtype)\n",
    "    visibilidades = amplitud * np.exp(1j * fase)\n",
    "    return visibilidades\n",
    "\n",
    "\n",
    "def prom_power(v):\n",
    "    prom = []\n",
    "    for value in v:\n",
    "        real = value.real\n",
    "        imag = value.imag\n",
    "        p = math.sqrt(pow(real,2) + pow(imag,2))\n",
    "        prom.append(p)\n",
    "\n",
    "    sum = 0 \n",
    "    for n in prom:\n",
    "        sum += n\n",
    "    prom = sum / len(v)\n",
    "    return prom\n",
    "\n",
    "def prom_power_vectorized(v):\n",
    "    return np.mean(np.abs(v))"
   ]
  },
  {
   "cell_type": "code",
   "execution_count": 36,
   "id": "66bbc49c",
   "metadata": {},
   "outputs": [
    {
     "name": "stdout",
     "output_type": "stream",
     "text": [
      "CPU times: total: 46.9 ms\n",
      "Wall time: 42.8 ms\n"
     ]
    }
   ],
   "source": [
    "%%time\n",
    "v = visilities()"
   ]
  },
  {
   "cell_type": "code",
   "execution_count": 37,
   "id": "eba46ea7",
   "metadata": {},
   "outputs": [
    {
     "name": "stdout",
     "output_type": "stream",
     "text": [
      "CPU times: total: 312 ms\n",
      "Wall time: 273 ms\n"
     ]
    }
   ],
   "source": [
    "%%time\n",
    "prom = prom_power(v)"
   ]
  },
  {
   "cell_type": "code",
   "execution_count": 38,
   "id": "dce0809d",
   "metadata": {},
   "outputs": [
    {
     "name": "stdout",
     "output_type": "stream",
     "text": [
      "CPU times: total: 31.2 ms\n",
      "Wall time: 3.02 ms\n"
     ]
    }
   ],
   "source": [
    "%%time\n",
    "prom_np = prom_power_vectorized(v)"
   ]
  },
  {
   "cell_type": "markdown",
   "id": "92cf11fd",
   "metadata": {},
   "source": [
    "### 2 Optimizacion de memoria en Datos astronómicos"
   ]
  },
  {
   "cell_type": "code",
   "execution_count": 39,
   "id": "043b5e6e",
   "metadata": {},
   "outputs": [
    {
     "name": "stdout",
     "output_type": "stream",
     "text": [
      "Memoria I32: 0.016 MB\n",
      "Memoria I64: 0.016 MB\n",
      "Memoria F32: 0.008 MB\n",
      "Memoria F64: 0.016 MB\n"
     ]
    }
   ],
   "source": [
    "## 2 Optimizacion de memoria en Datos astronómicos\n",
    "v_int32 = visilities(1000)\n",
    "v_int64 = visilities(1000, dtype=np.int64)\n",
    "v_float32 = visilities(1000, dtype=np.float32)\n",
    "v_float64 = visilities(1000,dtype=np.float64)\n",
    "\n",
    "print(f\"Memoria I32: {v_int32.nbytes / 1e6} MB\")\n",
    "print(f\"Memoria I64: {v_int64.nbytes / 1e6} MB\")\n",
    "print(f\"Memoria F32: {v_float32.nbytes / 1e6} MB\")\n",
    "print(f\"Memoria F64: {v_float64.nbytes / 1e6} MB\")"
   ]
  },
  {
   "cell_type": "code",
   "execution_count": 40,
   "id": "e8fba38f",
   "metadata": {},
   "outputs": [
    {
     "name": "stdout",
     "output_type": "stream",
     "text": [
      "CPU times: total: 0 ns\n",
      "Wall time: 71.5 μs\n"
     ]
    }
   ],
   "source": [
    "%%time\n",
    "test1 = v_int32 * np.random.randint(1, 10, dtype=np.int32)"
   ]
  },
  {
   "cell_type": "code",
   "execution_count": 41,
   "id": "e45906c7",
   "metadata": {},
   "outputs": [
    {
     "name": "stdout",
     "output_type": "stream",
     "text": [
      "CPU times: total: 0 ns\n",
      "Wall time: 57.5 μs\n"
     ]
    }
   ],
   "source": [
    "%%time\n",
    "test2 = v_int64 * np.random.randint(1, 10, dtype=np.int64)"
   ]
  },
  {
   "cell_type": "code",
   "execution_count": 42,
   "id": "f955782d",
   "metadata": {},
   "outputs": [
    {
     "name": "stdout",
     "output_type": "stream",
     "text": [
      "CPU times: total: 0 ns\n",
      "Wall time: 78.9 μs\n"
     ]
    }
   ],
   "source": [
    "%%time\n",
    "test3 = v_float32 * np.float32(np.random.randint(1, 10))"
   ]
  },
  {
   "cell_type": "code",
   "execution_count": 43,
   "id": "23999d35",
   "metadata": {},
   "outputs": [
    {
     "name": "stdout",
     "output_type": "stream",
     "text": [
      "CPU times: total: 0 ns\n",
      "Wall time: 80.6 μs\n"
     ]
    }
   ],
   "source": [
    "%%time\n",
    "test4 = v_float64 * np.float64(np.random.randint(1, 10))"
   ]
  },
  {
   "cell_type": "markdown",
   "id": "c9c1fbb6",
   "metadata": {},
   "source": [
    "### 3 Vistas vs Copias"
   ]
  },
  {
   "cell_type": "code",
   "execution_count": 49,
   "id": "4bd2cef2",
   "metadata": {},
   "outputs": [
    {
     "name": "stdout",
     "output_type": "stream",
     "text": [
      "Original [ 1  2  3 88  5  6  7  8  9 10]\n",
      "Vista [ 2  3 88  5]\n",
      "Copia [ 2  3 89  5]\n"
     ]
    }
   ],
   "source": [
    "array_original = np.array([1,2,3,4,5,6,7,8,9,10])\n",
    "\n",
    "vista = array_original[1:5]\n",
    "copia = array_original[1:5].copy()\n",
    "\n",
    "vista[2] = 88\n",
    "copia[2] = 89\n",
    "\n",
    "print(f\"Original {array_original}\")\n",
    "print(f\"Vista {vista}\")\n",
    "print(f\"Copia {copia}\")"
   ]
  },
  {
   "cell_type": "markdown",
   "id": "b891cc90",
   "metadata": {},
   "source": [
    "Al utilizar una vista, no se está creando un arreglo nuevo, solamante se está haciendo una ventana que apunta a directamente a la memoria del arreglo original. Por eso se modifican los valores del arreglo original. copy() si crea un arreglo completamente nuevo."
   ]
  },
  {
   "cell_type": "markdown",
   "id": "a57eb372",
   "metadata": {},
   "source": [
    "### 4 Análisis de Rendimiento\n"
   ]
  },
  {
   "cell_type": "code",
   "execution_count": null,
   "id": "7077e1d6",
   "metadata": {},
   "outputs": [
    {
     "name": "stdout",
     "output_type": "stream",
     "text": [
      "    Tamaño |  Loop Python |  Numpy Vec |  np.linalg.norm\n",
      "-------------------------------------------------------\n",
      "      1000 |     0.000086 |   0.000036 |        0.000010\n",
      "    100000 |     0.007246 |   0.000096 |        0.000089\n",
      "  10000000 |     0.726855 |   0.018562 |        0.001663\n"
     ]
    }
   ],
   "source": [
    "def norma_loop(x):\n",
    "    suma = 0.0\n",
    "    for i in x:\n",
    "        suma += i * i\n",
    "    return suma ** 0.5\n",
    "\n",
    "def norma_numpy_vec(x):\n",
    "    return np.sqrt(np.sum(x ** 2))\n",
    "\n",
    "def norma_numpy_func(x):\n",
    "    return np.linalg.norm(x)\n",
    "\n",
    "def medir_tiempo(func, x, n_reps=5):\n",
    "    tiempos = []\n",
    "    for _ in range(n_reps):\n",
    "        inicio = time.perf_counter()\n",
    "        func(x)\n",
    "        fin = time.perf_counter()\n",
    "        tiempos.append(fin - inicio)\n",
    "    return np.mean(tiempos)\n",
    "\n",
    "sizes = [10**3, 10**5, 10**7]\n",
    "\n",
    "resultados = []\n",
    "\n",
    "for n in sizes:\n",
    "    x = np.random.rand(n)\n",
    "    t_loop = medir_tiempo(norma_loop, x)\n",
    "    t_vec = medir_tiempo(norma_numpy_vec, x)\n",
    "    t_func = medir_tiempo(norma_numpy_func, x)\n",
    "    resultados.append((n, t_loop, t_vec, t_func))\n",
    "\n",
    "# Mostrar tabla de resultados\n",
    "print(f\"{'Tamaño':>10} | {'Loop Python':>12} | {'Numpy Vec':>10} | {'np.linalg.norm':>15}\")\n",
    "print(\"-\" * 55)\n",
    "for n, t1, t2, t3 in resultados:\n",
    "    print(f\"{n:10d} | {t1:12.6f} | {t2:10.6f} | {t3:15.6f}\")"
   ]
  },
  {
   "cell_type": "markdown",
   "id": "2444a5e1",
   "metadata": {},
   "source": [
    "### 5 Manipulacion de Arrays"
   ]
  },
  {
   "cell_type": "code",
   "execution_count": 51,
   "id": "8f252033",
   "metadata": {},
   "outputs": [
    {
     "name": "stdout",
     "output_type": "stream",
     "text": [
      "Máximo de las primeras 5 filas: [0.99953202 0.99977242 0.99982024 0.99926854 0.99938548]\n",
      "Máximo de las primeras 5 columnas: [0.99959313 0.9990345  0.99807854 0.99922234 0.99944385]\n",
      "Media de la primera fila normalizada: 9.85878045867139e-17\n",
      "Desviación estándar de la primera fila normalizada: 0.9999999999999999\n",
      "\n",
      "\n",
      "NumPy - Máximo por fila: 0.000527 segundos\n",
      "Python puro - Máximo por fila: 0.007099 segundos\n",
      "------------------------------\n",
      "NumPy - Normalizar filas: 0.007976 segundos\n",
      "Python puro - Normalizar filas: 0.092153 segundos\n"
     ]
    }
   ],
   "source": [
    "matriz = np.random.rand(1000, 1000)\n",
    "\n",
    "def maximo_por_fila(matriz):\n",
    "  return np.max(matriz, axis=1)\n",
    "\n",
    "maximos_filas = maximo_por_fila(matriz)\n",
    "\n",
    "print(\"Máximo de las primeras 5 filas:\", maximos_filas[:5])\n",
    "\n",
    "def maximo_por_columna(matriz):\n",
    "  return np.max(matriz, axis=0)\n",
    "\n",
    "maximos_columnas = maximo_por_columna(matriz)\n",
    "\n",
    "print(\"Máximo de las primeras 5 columnas:\", maximos_columnas[:5])\n",
    "\n",
    "def normalizar_filas(matriz):\n",
    "                     \n",
    "  media_filas = np.mean(matriz, axis=1, keepdims=True)\n",
    "  std_filas = np.std(matriz, axis=1, keepdims=True)\n",
    "  std_filas[std_filas == 0] = 1  \n",
    "  matriz_normalizada = (matriz - media_filas) / std_filas\n",
    "\n",
    "  return matriz_normalizada\n",
    "\n",
    "matriz_norm = normalizar_filas(matriz)\n",
    "\n",
    "print(\"Media de la primera fila normalizada:\", np.mean(matriz_norm[0, :]))\n",
    "print(\"Desviación estándar de la primera fila normalizada:\", np.std(matriz_norm[1, :]))\n",
    "\n",
    "# PYTHON\n",
    "\n",
    "def max_fila_python(matriz):\n",
    "    maximos = []\n",
    "    for fila in matriz:\n",
    "        maximos.append(max(fila))\n",
    "    return maximos\n",
    "\n",
    "def normalizar_filas_python(matriz):\n",
    "    matriz_norm = []\n",
    "    for fila in matriz:\n",
    "        media = sum(fila) / len(fila)\n",
    "        varianza = sum([(x - media) ** 2 for x in fila]) / len(fila)\n",
    "        std = varianza ** 0.5\n",
    "        if std == 0:\n",
    "            std = 1\n",
    "        fila_norm = [(x - media) / std for x in fila]\n",
    "        matriz_norm.append(fila_norm)\n",
    "    return matriz_norm\n",
    "\n",
    "matriz = np.random.rand(1000, 1000)\n",
    "matriz_lista = matriz.tolist()\n",
    "\n",
    "\n",
    "print(\"\\n\")\n",
    "\n",
    "\n",
    "inicio = time.time()\n",
    "maximo_por_fila(matriz)\n",
    "fin = time.time()\n",
    "print(f\"NumPy - Máximo por fila: {fin - inicio:.6f} segundos\")\n",
    "\n",
    "# Versión Python\n",
    "inicio = time.time()\n",
    "max_fila_python(matriz_lista)\n",
    "fin = time.time()\n",
    "print(f\"Python puro - Máximo por fila: {fin - inicio:.6f} segundos\")\n",
    "\n",
    "print(\"-\" * 30)\n",
    "inicio = time.time()\n",
    "normalizar_filas(matriz)\n",
    "fin = time.time()\n",
    "print(f\"NumPy - Normalizar filas: {fin - inicio:.6f} segundos\")\n",
    "\n",
    "# Versión Python\n",
    "inicio = time.time()\n",
    "normalizar_filas_python(matriz_lista)\n",
    "fin = time.time()\n",
    "print(f\"Python puro - Normalizar filas: {fin - inicio:.6f} segundos\")"
   ]
  },
  {
   "cell_type": "markdown",
   "id": "bccf65fd",
   "metadata": {},
   "source": [
    "## Broadcasting\n",
    "\n",
    "### 6 broadcasting basico\n"
   ]
  },
  {
   "cell_type": "markdown",
   "id": "99c49300",
   "metadata": {},
   "source": [
    "### 7 Broadcasting con Arrays 2D"
   ]
  },
  {
   "cell_type": "markdown",
   "id": "e42169eb",
   "metadata": {},
   "source": [
    "### 8 None y np.newaxis"
   ]
  },
  {
   "cell_type": "code",
   "execution_count": 73,
   "id": "34586cc1",
   "metadata": {},
   "outputs": [
    {
     "name": "stdout",
     "output_type": "stream",
     "text": [
      "array: [9 8 7 3 2 3]\n",
      "\n",
      "6x1: [[9]\n",
      " [8]\n",
      " [7]\n",
      " [3]\n",
      " [2]\n",
      " [3]] \n",
      " shape: (6, 1)\n",
      "1x6: [[9 8 7 3 2 3]]\n",
      " shape: (1, 6)\n",
      "\n",
      "suma:\n",
      " [[18 17 16 12 11 12]\n",
      " [17 16 15 11 10 11]\n",
      " [16 15 14 10  9 10]\n",
      " [12 11 10  6  5  6]\n",
      " [11 10  9  5  4  5]\n",
      " [12 11 10  6  5  6]]\n",
      "mult:\n",
      " [[81 72 63 27 18 27]\n",
      " [72 64 56 24 16 24]\n",
      " [63 56 49 21 14 21]\n",
      " [27 24 21  9  6  9]\n",
      " [18 16 14  6  4  6]\n",
      " [27 24 21  9  6  9]]\n"
     ]
    }
   ],
   "source": [
    "array1D = np.array(np.random.randint(1,10, size=6))\n",
    "\n",
    "print(f\"array: {array1D}\\n\")\n",
    "\n",
    "matrix6x1 = array1D[:,None]\n",
    "matrix1x6 = array1D[None, :]\n",
    "\n",
    "print(f\"6x1: {matrix6x1} \\n shape: {matrix6x1.shape}\")\n",
    "\n",
    "print(f\"1x6: {matrix1x6}\\n shape: {matrix1x6.shape}\\n\")\n",
    "\n",
    "print(\"suma:\\n\", matrix6x1 + matrix1x6)\n",
    "\n",
    "print(\"mult:\\n\", matrix6x1 * matrix1x6)\n"
   ]
  },
  {
   "cell_type": "markdown",
   "id": "7e8fc680",
   "metadata": {},
   "source": [
    "Como los shapes de los arreglos no son iguales, numpy tiene que revisar las dimensiones de derecha a izquierda en este caso tenemos (6,1) y (1,6). Como el 1 y 6 no coinciden numpy estira el arreglo a la dimension mas grande, por tanto el resultado siempre es de 6x6. Para el caso del vector columna estira hacia la derecha agregando mas columnas con los mismos valores de cada fila, en el caso del vector fila es lo mismo."
   ]
  },
  {
   "cell_type": "markdown",
   "id": "8960e9c8",
   "metadata": {},
   "source": [
    "### 9 Cálculo de Baselines del Interferómetro"
   ]
  }
 ],
 "metadata": {
  "kernelspec": {
   "display_name": "Python 3",
   "language": "python",
   "name": "python3"
  },
  "language_info": {
   "codemirror_mode": {
    "name": "ipython",
    "version": 3
   },
   "file_extension": ".py",
   "mimetype": "text/x-python",
   "name": "python",
   "nbconvert_exporter": "python",
   "pygments_lexer": "ipython3",
   "version": "3.13.7"
  }
 },
 "nbformat": 4,
 "nbformat_minor": 5
}
