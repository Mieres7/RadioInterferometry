{
 "cells": [
  {
   "cell_type": "code",
   "execution_count": 35,
   "id": "9c5650be",
   "metadata": {},
   "outputs": [],
   "source": [
    "import numpy as np\n",
    "import math"
   ]
  },
  {
   "cell_type": "markdown",
   "id": "3919a19f",
   "metadata": {},
   "source": [
    "## 1.1 Ejercicios Básicos\n",
    "\n",
    "### 1 Procesamiento de visibilidades"
   ]
  },
  {
   "cell_type": "code",
   "execution_count": 57,
   "id": "76aa9e2b",
   "metadata": {},
   "outputs": [],
   "source": [
    "# 1.1 Ejercicios Básicos\n",
    "## 1 Procesamiento de visibilidades\n",
    "def visilities(n=1_000_000, dtype=np.int32):\n",
    "    amplitud = np.random.uniform(0, 1, n).astype(dtype)\n",
    "    fase = np.random.uniform(0, 2 * np.pi, n).astype(dtype)\n",
    "    visibilidades = amplitud * np.exp(1j * fase)\n",
    "    return visibilidades\n",
    "\n",
    "\n",
    "def prom_power(v):\n",
    "    prom = []\n",
    "    for value in v:\n",
    "        real = value.real\n",
    "        imag = value.imag\n",
    "        p = math.sqrt(pow(real,2) + pow(imag,2))\n",
    "        prom.append(p)\n",
    "\n",
    "    sum = 0 \n",
    "    for n in prom:\n",
    "        sum += n\n",
    "    prom = sum / len(v)\n",
    "    return prom\n",
    "\n",
    "def prom_power_vectorized(v):\n",
    "    return np.mean(np.abs(v))"
   ]
  },
  {
   "cell_type": "code",
   "execution_count": 55,
   "id": "66bbc49c",
   "metadata": {},
   "outputs": [
    {
     "name": "stdout",
     "output_type": "stream",
     "text": [
      "CPU times: total: 31.2 ms\n",
      "Wall time: 35.7 ms\n"
     ]
    }
   ],
   "source": [
    "%%time\n",
    "v = visilities()"
   ]
  },
  {
   "cell_type": "code",
   "execution_count": 46,
   "id": "eba46ea7",
   "metadata": {},
   "outputs": [
    {
     "name": "stdout",
     "output_type": "stream",
     "text": [
      "CPU times: total: 281 ms\n",
      "Wall time: 285 ms\n"
     ]
    }
   ],
   "source": [
    "%%time\n",
    "prom = prom_power(v)"
   ]
  },
  {
   "cell_type": "code",
   "execution_count": 47,
   "id": "dce0809d",
   "metadata": {},
   "outputs": [
    {
     "name": "stdout",
     "output_type": "stream",
     "text": [
      "CPU times: total: 0 ns\n",
      "Wall time: 2.67 ms\n"
     ]
    }
   ],
   "source": [
    "%%time\n",
    "prom_np = prom_power_vectorized(v)"
   ]
  },
  {
   "cell_type": "markdown",
   "id": "92cf11fd",
   "metadata": {},
   "source": [
    "### 2 Optimizacion de memoria en Datos astronómicos"
   ]
  },
  {
   "cell_type": "code",
   "execution_count": 65,
   "id": "043b5e6e",
   "metadata": {},
   "outputs": [
    {
     "name": "stdout",
     "output_type": "stream",
     "text": [
      "Memoria I32: 0.016 MB\n",
      "Memoria I64: 0.016 MB\n",
      "Memoria F32: 0.008 MB\n",
      "Memoria F64: 0.016 MB\n"
     ]
    }
   ],
   "source": [
    "## 2 Optimizacion de memoria en Datos astronómicos\n",
    "v_int32 = visilities(1000)\n",
    "v_int64 = visilities(1000, dtype=np.int64)\n",
    "v_float32 = visilities(1000, dtype=np.float32)\n",
    "v_float64 = visilities(1000,dtype=np.float64)\n",
    "\n",
    "print(f\"Memoria I32: {v_int32.nbytes / 1e6} MB\")\n",
    "print(f\"Memoria I64: {v_int64.nbytes / 1e6} MB\")\n",
    "print(f\"Memoria F32: {v_float32.nbytes / 1e6} MB\")\n",
    "print(f\"Memoria F64: {v_float64.nbytes / 1e6} MB\")"
   ]
  },
  {
   "cell_type": "code",
   "execution_count": 66,
   "id": "e45906c7",
   "metadata": {},
   "outputs": [],
   "source": [
    "ganancia = 2"
   ]
  }
 ],
 "metadata": {
  "kernelspec": {
   "display_name": "Python 3",
   "language": "python",
   "name": "python3"
  },
  "language_info": {
   "codemirror_mode": {
    "name": "ipython",
    "version": 3
   },
   "file_extension": ".py",
   "mimetype": "text/x-python",
   "name": "python",
   "nbconvert_exporter": "python",
   "pygments_lexer": "ipython3",
   "version": "3.13.7"
  }
 },
 "nbformat": 4,
 "nbformat_minor": 5
}
